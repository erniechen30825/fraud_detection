{
 "cells": [
  {
   "cell_type": "code",
   "execution_count": 5,
   "metadata": {},
   "outputs": [],
   "source": [
    "import pandas as pd\n",
    "import numpy as np\n",
    "import warnings"
   ]
  },
  {
   "cell_type": "code",
   "execution_count": 4,
   "metadata": {},
   "outputs": [],
   "source": [
    "# read data\n",
    "fraud_df = pd.read_csv(\"fraud_analyst_interview_exercise_-_v2.csv\")\n",
    "warnings.simplefilter('ignore')  # deal and fix later\n",
    "fraud_df['adjusted_acc_created_at'] = pd.to_datetime(\n",
    "    fraud_df['adjusted_acc_created_at'])\n",
    "fraud_df['adjusted_pmt_created_at'] = pd.to_datetime(\n",
    "    fraud_df['adjusted_pmt_created_at'])\n",
    "fraud_df[\"time_diff\"] = fraud_df['adjusted_acc_created_at'] - \\\n",
    "    fraud_df['adjusted_pmt_created_at']\n"
   ]
  },
  {
   "cell_type": "markdown",
   "metadata": {},
   "source": [
    "# Feature Engineering"
   ]
  },
  {
   "cell_type": "code",
   "execution_count": 17,
   "metadata": {},
   "outputs": [
    {
     "data": {
      "text/plain": [
       "fraud_flag                         float64\n",
       "payment_id                           int64\n",
       "hashed_ip                           object\n",
       "device                              object\n",
       "version                            float64\n",
       "adjusted_pmt_created_at     datetime64[ns]\n",
       "merchant_name                       object\n",
       "hashed_consumer_id                  object\n",
       "adjusted_acc_created_at     datetime64[ns]\n",
       "amount                               int64\n",
       "hashed_buyer_email                  object\n",
       "buyer_email_domain                  object\n",
       "hashed_consumer_email               object\n",
       "consumer_email_domain               object\n",
       "hashed_buyer_phone                  object\n",
       "hashed_consumer_phone               object\n",
       "consumer_phone_age                   int64\n",
       "merchant_account_age                 int64\n",
       "ltv                                  int64\n",
       "hashed_zip                           int64\n",
       "consumer_gender                     object\n",
       "consumer_age                         int64\n",
       "time_diff                  timedelta64[ns]\n",
       "dtype: object"
      ]
     },
     "execution_count": 17,
     "metadata": {},
     "output_type": "execute_result"
    }
   ],
   "source": [
    "fraud_df.dtypes"
   ]
  },
  {
   "cell_type": "code",
   "execution_count": 12,
   "metadata": {},
   "outputs": [],
   "source": [
    "train_df = fraud_df.iloc[np.where(np.isnan(fraud_df.fraud_flag ) == False)]\n",
    "test_df = fraud_df.iloc[np.where(np.isnan(fraud_df.fraud_flag ) == True)]\n",
    "# test_df\n"
   ]
  },
  {
   "cell_type": "markdown",
   "metadata": {},
   "source": [
    "# Resampling"
   ]
  },
  {
   "cell_type": "markdown",
   "metadata": {},
   "source": [
    "# Baseline model: Logisitic regression "
   ]
  },
  {
   "cell_type": "markdown",
   "metadata": {},
   "source": [
    "# Baseline model 2 : Manual-rule-based"
   ]
  },
  {
   "cell_type": "markdown",
   "metadata": {},
   "source": [
    "# Classification/Decision tree"
   ]
  },
  {
   "cell_type": "markdown",
   "metadata": {},
   "source": [
    "# Support Vector Machine"
   ]
  }
 ],
 "metadata": {
  "kernelspec": {
   "display_name": "Python 3.8.5 ('base')",
   "language": "python",
   "name": "python3"
  },
  "language_info": {
   "codemirror_mode": {
    "name": "ipython",
    "version": 3
   },
   "file_extension": ".py",
   "mimetype": "text/x-python",
   "name": "python",
   "nbconvert_exporter": "python",
   "pygments_lexer": "ipython3",
   "version": "3.8.5"
  },
  "orig_nbformat": 4,
  "vscode": {
   "interpreter": {
    "hash": "cbef2319037d507bd37a73de8e56c5a851ec4348fd344ef6c17b0b9a7d2280ba"
   }
  }
 },
 "nbformat": 4,
 "nbformat_minor": 2
}
