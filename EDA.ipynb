{
 "cells": [
  {
   "cell_type": "code",
   "execution_count": 1,
   "metadata": {},
   "outputs": [],
   "source": [
    "# import libraries\n",
    "import pandas as pd\n",
    "import numpy as np\n",
    "import matplotlib.pyplot as plt\n",
    "import seaborn as sns"
   ]
  },
  {
   "cell_type": "markdown",
   "metadata": {},
   "source": [
    "# Data exploration"
   ]
  },
  {
   "cell_type": "code",
   "execution_count": 2,
   "metadata": {},
   "outputs": [],
   "source": [
    "# read data\n",
    "fraud_df = pd.read_csv(\"fraud_analyst_interview_exercise_-_v2.csv\")"
   ]
  },
  {
   "cell_type": "code",
   "execution_count": 3,
   "metadata": {},
   "outputs": [
    {
     "data": {
      "text/html": [
       "<div>\n",
       "<style scoped>\n",
       "    .dataframe tbody tr th:only-of-type {\n",
       "        vertical-align: middle;\n",
       "    }\n",
       "\n",
       "    .dataframe tbody tr th {\n",
       "        vertical-align: top;\n",
       "    }\n",
       "\n",
       "    .dataframe thead th {\n",
       "        text-align: right;\n",
       "    }\n",
       "</style>\n",
       "<table border=\"1\" class=\"dataframe\">\n",
       "  <thead>\n",
       "    <tr style=\"text-align: right;\">\n",
       "      <th></th>\n",
       "      <th>fraud_flag</th>\n",
       "      <th>payment_id</th>\n",
       "      <th>hashed_ip</th>\n",
       "      <th>device</th>\n",
       "      <th>version</th>\n",
       "      <th>adjusted_pmt_created_at</th>\n",
       "      <th>merchant_name</th>\n",
       "      <th>hashed_consumer_id</th>\n",
       "      <th>adjusted_acc_created_at</th>\n",
       "      <th>amount</th>\n",
       "      <th>...</th>\n",
       "      <th>hashed_consumer_email</th>\n",
       "      <th>consumer_email_domain</th>\n",
       "      <th>hashed_buyer_phone</th>\n",
       "      <th>hashed_consumer_phone</th>\n",
       "      <th>consumer_phone_age</th>\n",
       "      <th>merchant_account_age</th>\n",
       "      <th>ltv</th>\n",
       "      <th>hashed_zip</th>\n",
       "      <th>consumer_gender</th>\n",
       "      <th>consumer_age</th>\n",
       "    </tr>\n",
       "  </thead>\n",
       "  <tbody>\n",
       "    <tr>\n",
       "      <th>0</th>\n",
       "      <td>0.0</td>\n",
       "      <td>5860</td>\n",
       "      <td>ip_3737</td>\n",
       "      <td>Android</td>\n",
       "      <td>10.0</td>\n",
       "      <td>2021-04-26 0:00:03</td>\n",
       "      <td>Red Shop</td>\n",
       "      <td>consumer_1145</td>\n",
       "      <td>2021-03-25 23:15:19</td>\n",
       "      <td>47500</td>\n",
       "      <td>...</td>\n",
       "      <td>email_6799</td>\n",
       "      <td>gmail.com</td>\n",
       "      <td>phone_7698</td>\n",
       "      <td>phone_7698</td>\n",
       "      <td>139</td>\n",
       "      <td>358</td>\n",
       "      <td>32500</td>\n",
       "      <td>7508146</td>\n",
       "      <td>NaN</td>\n",
       "      <td>65</td>\n",
       "    </tr>\n",
       "    <tr>\n",
       "      <th>1</th>\n",
       "      <td>0.0</td>\n",
       "      <td>2676</td>\n",
       "      <td>ip_1723</td>\n",
       "      <td>Android</td>\n",
       "      <td>10.0</td>\n",
       "      <td>2021-04-26 0:01:33</td>\n",
       "      <td>Red Shop</td>\n",
       "      <td>consumer_2022</td>\n",
       "      <td>2021-04-18 3:23:20</td>\n",
       "      <td>580</td>\n",
       "      <td>...</td>\n",
       "      <td>email_192</td>\n",
       "      <td>gmail.com</td>\n",
       "      <td>phone_3244</td>\n",
       "      <td>phone_3244</td>\n",
       "      <td>108</td>\n",
       "      <td>19</td>\n",
       "      <td>3800</td>\n",
       "      <td>8518137</td>\n",
       "      <td>Female</td>\n",
       "      <td>66</td>\n",
       "    </tr>\n",
       "    <tr>\n",
       "      <th>2</th>\n",
       "      <td>0.0</td>\n",
       "      <td>8153</td>\n",
       "      <td>ip_5156</td>\n",
       "      <td>Android</td>\n",
       "      <td>9.0</td>\n",
       "      <td>2021-04-26 0:04:28</td>\n",
       "      <td>Red Shop</td>\n",
       "      <td>consumer_837</td>\n",
       "      <td>2021-03-09 23:46:45</td>\n",
       "      <td>680</td>\n",
       "      <td>...</td>\n",
       "      <td>email_4991</td>\n",
       "      <td>docomo.ne.jp</td>\n",
       "      <td>phone_1389</td>\n",
       "      <td>phone_1389</td>\n",
       "      <td>112</td>\n",
       "      <td>0</td>\n",
       "      <td>0</td>\n",
       "      <td>9552346</td>\n",
       "      <td>Male</td>\n",
       "      <td>49</td>\n",
       "    </tr>\n",
       "    <tr>\n",
       "      <th>3</th>\n",
       "      <td>0.0</td>\n",
       "      <td>8147</td>\n",
       "      <td>ip_5156</td>\n",
       "      <td>Android</td>\n",
       "      <td>9.0</td>\n",
       "      <td>2021-04-26 0:05:20</td>\n",
       "      <td>Red Shop</td>\n",
       "      <td>consumer_837</td>\n",
       "      <td>2021-03-09 23:46:45</td>\n",
       "      <td>680</td>\n",
       "      <td>...</td>\n",
       "      <td>email_4991</td>\n",
       "      <td>docomo.ne.jp</td>\n",
       "      <td>phone_1389</td>\n",
       "      <td>phone_1389</td>\n",
       "      <td>197</td>\n",
       "      <td>0</td>\n",
       "      <td>0</td>\n",
       "      <td>9552346</td>\n",
       "      <td>NaN</td>\n",
       "      <td>57</td>\n",
       "    </tr>\n",
       "    <tr>\n",
       "      <th>4</th>\n",
       "      <td>0.0</td>\n",
       "      <td>1344</td>\n",
       "      <td>ip_865</td>\n",
       "      <td>iPhone OS</td>\n",
       "      <td>13.0</td>\n",
       "      <td>2021-04-26 0:05:48</td>\n",
       "      <td>Blue Shop</td>\n",
       "      <td>consumer_2336</td>\n",
       "      <td>2021-04-20 19:37:42</td>\n",
       "      <td>125400</td>\n",
       "      <td>...</td>\n",
       "      <td>email_8182</td>\n",
       "      <td>ezweb.ne.jp</td>\n",
       "      <td>phone_3618</td>\n",
       "      <td>phone_3618</td>\n",
       "      <td>13</td>\n",
       "      <td>0</td>\n",
       "      <td>0</td>\n",
       "      <td>9959594</td>\n",
       "      <td>Male</td>\n",
       "      <td>21</td>\n",
       "    </tr>\n",
       "  </tbody>\n",
       "</table>\n",
       "<p>5 rows × 22 columns</p>\n",
       "</div>"
      ],
      "text/plain": [
       "   fraud_flag  payment_id hashed_ip     device  version  \\\n",
       "0         0.0        5860   ip_3737    Android     10.0   \n",
       "1         0.0        2676   ip_1723    Android     10.0   \n",
       "2         0.0        8153   ip_5156    Android      9.0   \n",
       "3         0.0        8147   ip_5156    Android      9.0   \n",
       "4         0.0        1344    ip_865  iPhone OS     13.0   \n",
       "\n",
       "  adjusted_pmt_created_at merchant_name hashed_consumer_id  \\\n",
       "0      2021-04-26 0:00:03      Red Shop      consumer_1145   \n",
       "1      2021-04-26 0:01:33      Red Shop      consumer_2022   \n",
       "2      2021-04-26 0:04:28      Red Shop       consumer_837   \n",
       "3      2021-04-26 0:05:20      Red Shop       consumer_837   \n",
       "4      2021-04-26 0:05:48     Blue Shop      consumer_2336   \n",
       "\n",
       "  adjusted_acc_created_at  amount  ... hashed_consumer_email  \\\n",
       "0     2021-03-25 23:15:19   47500  ...            email_6799   \n",
       "1      2021-04-18 3:23:20     580  ...             email_192   \n",
       "2     2021-03-09 23:46:45     680  ...            email_4991   \n",
       "3     2021-03-09 23:46:45     680  ...            email_4991   \n",
       "4     2021-04-20 19:37:42  125400  ...            email_8182   \n",
       "\n",
       "  consumer_email_domain hashed_buyer_phone hashed_consumer_phone  \\\n",
       "0             gmail.com         phone_7698            phone_7698   \n",
       "1             gmail.com         phone_3244            phone_3244   \n",
       "2          docomo.ne.jp         phone_1389            phone_1389   \n",
       "3          docomo.ne.jp         phone_1389            phone_1389   \n",
       "4           ezweb.ne.jp         phone_3618            phone_3618   \n",
       "\n",
       "  consumer_phone_age merchant_account_age    ltv  hashed_zip  consumer_gender  \\\n",
       "0                139                  358  32500     7508146              NaN   \n",
       "1                108                   19   3800     8518137           Female   \n",
       "2                112                    0      0     9552346             Male   \n",
       "3                197                    0      0     9552346              NaN   \n",
       "4                 13                    0      0     9959594             Male   \n",
       "\n",
       "   consumer_age  \n",
       "0            65  \n",
       "1            66  \n",
       "2            49  \n",
       "3            57  \n",
       "4            21  \n",
       "\n",
       "[5 rows x 22 columns]"
      ]
     },
     "execution_count": 3,
     "metadata": {},
     "output_type": "execute_result"
    }
   ],
   "source": [
    "fraud_df.head()"
   ]
  },
  {
   "cell_type": "code",
   "execution_count": 4,
   "metadata": {},
   "outputs": [
    {
     "data": {
      "text/plain": [
       "fraud_flag                 11048\n",
       "payment_id                     0\n",
       "hashed_ip                      0\n",
       "device                        87\n",
       "version                       87\n",
       "adjusted_pmt_created_at        0\n",
       "merchant_name                  0\n",
       "hashed_consumer_id             0\n",
       "adjusted_acc_created_at        0\n",
       "amount                         0\n",
       "hashed_buyer_email             0\n",
       "buyer_email_domain             0\n",
       "hashed_consumer_email          0\n",
       "consumer_email_domain          0\n",
       "hashed_buyer_phone             0\n",
       "hashed_consumer_phone          0\n",
       "consumer_phone_age             0\n",
       "merchant_account_age           0\n",
       "ltv                            0\n",
       "hashed_zip                     0\n",
       "consumer_gender             3075\n",
       "consumer_age                   0\n",
       "dtype: int64"
      ]
     },
     "execution_count": 4,
     "metadata": {},
     "output_type": "execute_result"
    }
   ],
   "source": [
    "# fraud_df.describe()\n",
    "fraud_df.isna().sum()"
   ]
  },
  {
   "cell_type": "markdown",
   "metadata": {},
   "source": [
    "## Amount of data with fraud flags and without"
   ]
  },
  {
   "cell_type": "code",
   "execution_count": 5,
   "metadata": {},
   "outputs": [],
   "source": [
    "fraud_df[\"isflagged\"]  = np.where(pd.isnull(fraud_df.fraud_flag) , \"not_flagged\",\"is_flagged\")\n",
    "fraud_df[\"count\"] = 1\n",
    "\n"
   ]
  },
  {
   "cell_type": "code",
   "execution_count": 6,
   "metadata": {},
   "outputs": [
    {
     "data": {
      "text/plain": [
       "13239"
      ]
     },
     "execution_count": 6,
     "metadata": {},
     "output_type": "execute_result"
    }
   ],
   "source": [
    "fraud_df[\"count\"].sum()"
   ]
  },
  {
   "cell_type": "code",
   "execution_count": 7,
   "metadata": {},
   "outputs": [
    {
     "data": {
      "text/plain": [
       "array(['is_flagged', 'not_flagged'], dtype=object)"
      ]
     },
     "execution_count": 7,
     "metadata": {},
     "output_type": "execute_result"
    }
   ],
   "source": [
    "fraud_df[\"isflagged\"].unique()"
   ]
  },
  {
   "cell_type": "code",
   "execution_count": 8,
   "metadata": {},
   "outputs": [
    {
     "data": {
      "text/html": [
       "<div>\n",
       "<style scoped>\n",
       "    .dataframe tbody tr th:only-of-type {\n",
       "        vertical-align: middle;\n",
       "    }\n",
       "\n",
       "    .dataframe tbody tr th {\n",
       "        vertical-align: top;\n",
       "    }\n",
       "\n",
       "    .dataframe thead th {\n",
       "        text-align: right;\n",
       "    }\n",
       "</style>\n",
       "<table border=\"1\" class=\"dataframe\">\n",
       "  <thead>\n",
       "    <tr style=\"text-align: right;\">\n",
       "      <th></th>\n",
       "      <th>isflagged</th>\n",
       "      <th>fraud_flag</th>\n",
       "      <th>payment_id</th>\n",
       "      <th>version</th>\n",
       "      <th>amount</th>\n",
       "      <th>consumer_phone_age</th>\n",
       "      <th>merchant_account_age</th>\n",
       "      <th>ltv</th>\n",
       "      <th>hashed_zip</th>\n",
       "      <th>consumer_age</th>\n",
       "      <th>count</th>\n",
       "    </tr>\n",
       "  </thead>\n",
       "  <tbody>\n",
       "    <tr>\n",
       "      <th>0</th>\n",
       "      <td>is_flagged</td>\n",
       "      <td>69.0</td>\n",
       "      <td>14345299</td>\n",
       "      <td>25438.0</td>\n",
       "      <td>28665899</td>\n",
       "      <td>221563</td>\n",
       "      <td>401015</td>\n",
       "      <td>7811247</td>\n",
       "      <td>11533180086</td>\n",
       "      <td>93889</td>\n",
       "      <td>2191</td>\n",
       "    </tr>\n",
       "    <tr>\n",
       "      <th>1</th>\n",
       "      <td>not_flagged</td>\n",
       "      <td>0.0</td>\n",
       "      <td>73296881</td>\n",
       "      <td>128744.0</td>\n",
       "      <td>141404305</td>\n",
       "      <td>1108365</td>\n",
       "      <td>2006014</td>\n",
       "      <td>37541406</td>\n",
       "      <td>58195212280</td>\n",
       "      <td>474674</td>\n",
       "      <td>11048</td>\n",
       "    </tr>\n",
       "  </tbody>\n",
       "</table>\n",
       "</div>"
      ],
      "text/plain": [
       "     isflagged  fraud_flag  payment_id   version     amount  \\\n",
       "0   is_flagged        69.0    14345299   25438.0   28665899   \n",
       "1  not_flagged         0.0    73296881  128744.0  141404305   \n",
       "\n",
       "   consumer_phone_age  merchant_account_age       ltv   hashed_zip  \\\n",
       "0              221563                401015   7811247  11533180086   \n",
       "1             1108365               2006014  37541406  58195212280   \n",
       "\n",
       "   consumer_age  count  \n",
       "0         93889   2191  \n",
       "1        474674  11048  "
      ]
     },
     "execution_count": 8,
     "metadata": {},
     "output_type": "execute_result"
    }
   ],
   "source": [
    "flag_df = fraud_df.groupby(\"isflagged\").sum().reset_index()\n",
    "flag_df"
   ]
  },
  {
   "cell_type": "code",
   "execution_count": 9,
   "metadata": {},
   "outputs": [
    {
     "data": {
      "image/png": "[encoded data removed]",
      "text/plain": [
       "<Figure size 432x288 with 1 Axes>"
      ]
     },
     "metadata": {
      "needs_background": "light"
     },
     "output_type": "display_data"
    }
   ],
   "source": [
    "fig1 ,ax1 = plt.subplots()\n",
    "bar = ax1.bar(flag_df[\"isflagged\"], flag_df[\"count\"], label=flag_df[\"count\"])\n",
    "ax1.bar_label(bar)\n",
    "plt.show()\n"
   ]
  },
  {
   "cell_type": "code",
   "execution_count": 11,
   "metadata": {},
   "outputs": [
    {
     "data": {
      "text/html": [
       "<div>\n",
       "<style scoped>\n",
       "    .dataframe tbody tr th:only-of-type {\n",
       "        vertical-align: middle;\n",
       "    }\n",
       "\n",
       "    .dataframe tbody tr th {\n",
       "        vertical-align: top;\n",
       "    }\n",
       "\n",
       "    .dataframe thead th {\n",
       "        text-align: right;\n",
       "    }\n",
       "</style>\n",
       "<table border=\"1\" class=\"dataframe\">\n",
       "  <thead>\n",
       "    <tr style=\"text-align: right;\">\n",
       "      <th></th>\n",
       "      <th>fraud_flag</th>\n",
       "      <th>payment_id</th>\n",
       "      <th>version</th>\n",
       "      <th>amount</th>\n",
       "      <th>consumer_phone_age</th>\n",
       "      <th>merchant_account_age</th>\n",
       "      <th>ltv</th>\n",
       "      <th>hashed_zip</th>\n",
       "      <th>consumer_age</th>\n",
       "      <th>count</th>\n",
       "    </tr>\n",
       "  </thead>\n",
       "  <tbody>\n",
       "    <tr>\n",
       "      <th>0</th>\n",
       "      <td>0.0</td>\n",
       "      <td>13762531</td>\n",
       "      <td>24936.0</td>\n",
       "      <td>28084895</td>\n",
       "      <td>214204</td>\n",
       "      <td>401015</td>\n",
       "      <td>7811247</td>\n",
       "      <td>11153640454</td>\n",
       "      <td>91064</td>\n",
       "      <td>2122</td>\n",
       "    </tr>\n",
       "    <tr>\n",
       "      <th>1</th>\n",
       "      <td>1.0</td>\n",
       "      <td>582768</td>\n",
       "      <td>502.0</td>\n",
       "      <td>581004</td>\n",
       "      <td>7359</td>\n",
       "      <td>0</td>\n",
       "      <td>0</td>\n",
       "      <td>379539632</td>\n",
       "      <td>2825</td>\n",
       "      <td>69</td>\n",
       "    </tr>\n",
       "  </tbody>\n",
       "</table>\n",
       "</div>"
      ],
      "text/plain": [
       "   fraud_flag  payment_id  version    amount  consumer_phone_age  \\\n",
       "0         0.0    13762531  24936.0  28084895              214204   \n",
       "1         1.0      582768    502.0    581004                7359   \n",
       "\n",
       "   merchant_account_age      ltv   hashed_zip  consumer_age  count  \n",
       "0                401015  7811247  11153640454         91064   2122  \n",
       "1                     0        0    379539632          2825     69  "
      ]
     },
     "execution_count": 11,
     "metadata": {},
     "output_type": "execute_result"
    }
   ],
   "source": [
    "flag2_df = fraud_df.groupby(fraud_df.fraud_flag).sum().reset_index()\n",
    "flag2_df"
   ]
  },
  {
   "cell_type": "code",
   "execution_count": 14,
   "metadata": {},
   "outputs": [
    {
     "data": {
      "image/png": "[encoded data removed]",
      "text/plain": [
       "<Figure size 432x288 with 1 Axes>"
      ]
     },
     "metadata": {
      "needs_background": "light"
     },
     "output_type": "display_data"
    }
   ],
   "source": [
    "fig2 ,ax2 = plt.subplots()\n",
    "bar2 = ax2.bar(flag2_df[\"fraud_flag\"],\n",
    "               flag2_df[\"count\"], label=flag2_df[\"count\"])\n",
    "ax2.bar_label(bar2)\n",
    "plt.show()\n"
   ]
  },
  {
   "cell_type": "markdown",
   "metadata": {},
   "source": [
    "## data attributes of fraud flagged data"
   ]
  },
  {
   "cell_type": "code",
   "execution_count": 16,
   "metadata": {},
   "outputs": [
    {
     "data": {
      "text/plain": [
       "69"
      ]
     },
     "execution_count": 16,
     "metadata": {},
     "output_type": "execute_result"
    }
   ],
   "source": [
    "fraud_only = fraud_df[fraud_df.fraud_flag == 1]\n",
    "len(fraud_only) #should be 69"
   ]
  }
 ],
 "metadata": {
  "kernelspec": {
   "display_name": "Python 3.8.5 ('base')",
   "language": "python",
   "name": "python3"
  },
  "language_info": {
   "codemirror_mode": {
    "name": "ipython",
    "version": 3
   },
   "file_extension": ".py",
   "mimetype": "text/x-python",
   "name": "python",
   "nbconvert_exporter": "python",
   "pygments_lexer": "ipython3",
   "version": "3.8.5"
  },
  "orig_nbformat": 4,
  "vscode": {
   "interpreter": {
    "hash": "cbef2319037d507bd37a73de8e56c5a851ec4348fd344ef6c17b0b9a7d2280ba"
   }
  }
 },
 "nbformat": 4,
 "nbformat_minor": 2
}
